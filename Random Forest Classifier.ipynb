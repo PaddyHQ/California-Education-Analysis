{
 "cells": [
  {
   "cell_type": "code",
   "execution_count": null,
   "id": "72658c14",
   "metadata": {},
   "outputs": [],
   "source": [
    "# Initial imports.\n",
    "import pandas as pd\n",
    "import numpy as np\n",
    "from path import Path\n",
    "from sklearn.ensemble import RandomForestClassifier\n",
    "from sklearn.preprocessing import StandardScaler\n",
    "from sklearn.model_selection import train_test_split\n",
    "from sklearn.metrics import confusion_matrix, accuracy_score, classification_report"
   ]
  },
  {
   "cell_type": "markdown",
   "id": "71acebe7",
   "metadata": {},
   "source": [
    "# Upload and Transform Data"
   ]
  },
  {
   "cell_type": "code",
   "execution_count": null,
   "id": "137d85ce",
   "metadata": {},
   "outputs": [],
   "source": [
    "# Read the CSV from AWS.\n",
    "from pyspark import SparkFiles\n",
    "url =\"https://YOUR-BUCKET-NAME.s3.amazonaws.com/District_data.csv\"\n",
    "spark.sparkContext.addFile(url)\n",
    "districts = spark.read.csv(SparkFiles.get(\"District_data.csv\"), sep=\",\", header=True, inferSchema=True)"
   ]
  },
  {
   "cell_type": "code",
   "execution_count": null,
   "id": "46d9e91e",
   "metadata": {},
   "outputs": [],
   "source": [
    "# Read the CSV file into a Pandas DataFrame\n",
    "districts = pd.read_csv('District_data.csv')\n",
    "districts = districts.replace('redacted',0)\n",
    "districts.head()"
   ]
  },
  {
   "cell_type": "code",
   "execution_count": null,
   "id": "7ca76a62",
   "metadata": {},
   "outputs": [],
   "source": [
    "# Create a binary variable showing whether a district has above 50% proficiency or below.\n",
    "districts['Math_metAbove50'] = np.where(districts['Math_metAbove'] >= 50, True, False)\n",
    "districts['ELA_metAbove50'] = np.where(districts['ELA_metAbove'] >= 50, True, False)\n",
    "districts['Math_metAbove50'] = districts['Math_metAbove50'].astype(int)\n",
    "districts['ELA_metAbove50'] = districts['ELA_metAbove50'].astype(int)\n",
    "districts.head(30)"
   ]
  },
  {
   "cell_type": "code",
   "execution_count": null,
   "id": "d24d02fb",
   "metadata": {},
   "outputs": [],
   "source": [
    "# Rename average years of teaching column.\n",
    "districts = districts.rename(columns={\"Avg Years Teaching (District)\": \"Avg_years_teaching\"})\n",
    "districts"
   ]
  },
  {
   "cell_type": "code",
   "execution_count": null,
   "id": "470d47ca",
   "metadata": {},
   "outputs": [],
   "source": [
    "# Replace NaaNs with means.\n",
    "districts = districts.fillna(districts.mean())"
   ]
  },
  {
   "cell_type": "markdown",
   "id": "4236d165",
   "metadata": {},
   "source": [
    "# Predicting ELA Proficiency"
   ]
  },
  {
   "cell_type": "code",
   "execution_count": null,
   "id": "9813d008",
   "metadata": {},
   "outputs": [],
   "source": [
    "# Define the feature set.\n",
    "X = districts[[\"Enrollment\",\"FRL_Perc\",\"Teach_to_stud\",\"Per_pupil_exp\",\"Teacher_salary\",\"Avg_years_teaching\"]]\n",
    "X.head()"
   ]
  },
  {
   "cell_type": "code",
   "execution_count": null,
   "id": "7133a0d9",
   "metadata": {},
   "outputs": [],
   "source": [
    "# Define the target set.\n",
    "y = districts['ELA_metAbove50']\n",
    "y[:5]"
   ]
  },
  {
   "cell_type": "code",
   "execution_count": null,
   "id": "dde46cd2",
   "metadata": {},
   "outputs": [],
   "source": [
    "# Splitting into Train and Test sets.\n",
    "X_train, X_test, y_train, y_test = train_test_split(X, y, random_state=78)"
   ]
  },
  {
   "cell_type": "code",
   "execution_count": null,
   "id": "153399c8",
   "metadata": {},
   "outputs": [],
   "source": [
    "# Creating a StandardScaler instance.\n",
    "scaler = StandardScaler()\n",
    "# Fitting the Standard Scaler with the training data.\n",
    "X_scaler = scaler.fit(X_train)\n",
    "\n",
    "# Scaling the data.\n",
    "X_train_scaled = X_scaler.transform(X_train)\n",
    "X_test_scaled = X_scaler.transform(X_test)"
   ]
  },
  {
   "cell_type": "code",
   "execution_count": null,
   "id": "fdc863e0",
   "metadata": {},
   "outputs": [],
   "source": [
    "# Create a random forest classifier.\n",
    "rf_model = RandomForestClassifier(n_estimators=500, random_state=78) "
   ]
  },
  {
   "cell_type": "code",
   "execution_count": null,
   "id": "72e436af",
   "metadata": {},
   "outputs": [],
   "source": [
    "# Fitting the model\n",
    "rf_model = rf_model.fit(X_train_scaled, y_train)"
   ]
  },
  {
   "cell_type": "code",
   "execution_count": null,
   "id": "162e0c07",
   "metadata": {},
   "outputs": [],
   "source": [
    "# Making predictions using the testing data.\n",
    "predictions = rf_model.predict(X_test_scaled)"
   ]
  },
  {
   "cell_type": "code",
   "execution_count": null,
   "id": "c2d98b6e",
   "metadata": {},
   "outputs": [],
   "source": [
    "# Calculating the confusion matrix.\n",
    "cm = confusion_matrix(y_test, predictions)\n",
    "\n",
    "# Create a DataFrame from the confusion matrix.\n",
    "cm_df = pd.DataFrame(\n",
    "    cm, index=[\"Actual 0\", \"Actual 1\"], columns=[\"Predicted 0\", \"Predicted 1\"])\n",
    "\n",
    "cm_df"
   ]
  },
  {
   "cell_type": "code",
   "execution_count": null,
   "id": "45877e41",
   "metadata": {},
   "outputs": [],
   "source": [
    "# Calculating the accuracy score.\n",
    "acc_score = accuracy_score(y_test, predictions)\n",
    "acc_score"
   ]
  },
  {
   "cell_type": "code",
   "execution_count": null,
   "id": "89651c00",
   "metadata": {},
   "outputs": [],
   "source": [
    "# Displaying results\n",
    "print(\"Confusion Matrix\")\n",
    "display(cm_df)\n",
    "print(f\"Accuracy Score : {acc_score}\")\n",
    "print(\"Classification Report\")\n",
    "print(classification_report(y_test, predictions))"
   ]
  },
  {
   "cell_type": "code",
   "execution_count": null,
   "id": "f3f4c7c6",
   "metadata": {},
   "outputs": [],
   "source": [
    "# Calculate feature importance in the Random Forest model.\n",
    "importances = rf_model.feature_importances_\n",
    "importances"
   ]
  },
  {
   "cell_type": "code",
   "execution_count": null,
   "id": "675d590e",
   "metadata": {},
   "outputs": [],
   "source": [
    "# Sort the features by their importance.\n",
    "sorted(zip(rf_model.feature_importances_, X.columns), reverse=True)"
   ]
  },
  {
   "cell_type": "markdown",
   "id": "b3889cca",
   "metadata": {},
   "source": [
    "# Predicting Math Proficiency"
   ]
  },
  {
   "cell_type": "code",
   "execution_count": null,
   "id": "af4128b4",
   "metadata": {},
   "outputs": [],
   "source": [
    "# Define the target set.\n",
    "y = districts['Math_metAbove50']\n",
    "y[:5]"
   ]
  },
  {
   "cell_type": "code",
   "execution_count": null,
   "id": "a3283d8d",
   "metadata": {},
   "outputs": [],
   "source": [
    "# Splitting into Train and Test sets.\n",
    "X_train, X_test, y_train, y_test = train_test_split(X, y, random_state=78, stratify=True)\n",
    "\n",
    "# Consider random state of 42."
   ]
  },
  {
   "cell_type": "code",
   "execution_count": null,
   "id": "a8463718",
   "metadata": {},
   "outputs": [],
   "source": [
    "# Creating a StandardScaler instance.\n",
    "scaler = StandardScaler()\n",
    "# Fitting the Standard Scaler with the training data.\n",
    "X_scaler = scaler.fit(X_train)\n",
    "\n",
    "# Scaling the data.\n",
    "X_train_scaled = X_scaler.transform(X_train)\n",
    "X_test_scaled = X_scaler.transform(X_test)"
   ]
  },
  {
   "cell_type": "code",
   "execution_count": null,
   "id": "94a799b8",
   "metadata": {},
   "outputs": [],
   "source": [
    "# Create a random forest classifier.\n",
    "rf_model = RandomForestClassifier(n_estimators=500, random_state=78) "
   ]
  },
  {
   "cell_type": "code",
   "execution_count": null,
   "id": "dd6aa4bb",
   "metadata": {},
   "outputs": [],
   "source": [
    "# Fitting the model\n",
    "rf_model = rf_model.fit(X_train_scaled, y_train)"
   ]
  },
  {
   "cell_type": "code",
   "execution_count": null,
   "id": "31f759be",
   "metadata": {},
   "outputs": [],
   "source": [
    "# Making predictions using the testing data.\n",
    "predictions = rf_model.predict(X_test_scaled)"
   ]
  },
  {
   "cell_type": "code",
   "execution_count": null,
   "id": "31530db8",
   "metadata": {},
   "outputs": [],
   "source": [
    "# Calculating the confusion matrix.\n",
    "cm = confusion_matrix(y_test, predictions)\n",
    "\n",
    "# Create a DataFrame from the confusion matrix.\n",
    "cm_df = pd.DataFrame(\n",
    "    cm, index=[\"Actual 0\", \"Actual 1\"], columns=[\"Predicted 0\", \"Predicted 1\"])\n",
    "\n",
    "cm_df"
   ]
  },
  {
   "cell_type": "code",
   "execution_count": null,
   "id": "939f1a3e",
   "metadata": {},
   "outputs": [],
   "source": [
    "# Calculating the accuracy score.\n",
    "acc_score = accuracy_score(y_test, predictions)"
   ]
  },
  {
   "cell_type": "code",
   "execution_count": null,
   "id": "a46002e9",
   "metadata": {},
   "outputs": [],
   "source": [
    "# Displaying results\n",
    "print(\"Confusion Matrix\")\n",
    "display(cm_df)\n",
    "print(f\"Accuracy Score : {acc_score}\")\n",
    "print(\"Classification Report\")\n",
    "print(classification_report(y_test, predictions))"
   ]
  },
  {
   "cell_type": "code",
   "execution_count": null,
   "id": "186d9570",
   "metadata": {},
   "outputs": [],
   "source": [
    "# Calculate feature importance in the Random Forest model.\n",
    "importances = rf_model.feature_importances_\n",
    "importances"
   ]
  },
  {
   "cell_type": "code",
   "execution_count": 82,
   "id": "a57b9727",
   "metadata": {},
   "outputs": [
    {
     "data": {
      "text/plain": [
       "[(0.5016407578542948, 'FRL_Perc'),\n",
       " (0.13523997175285005, 'Per_pupil_exp'),\n",
       " (0.12407650312110306, 'Teacher_salary'),\n",
       " (0.09617499994012865, 'Enrollment'),\n",
       " (0.09260367004715042, 'Teach_to_stud'),\n",
       " (0.050264097284472856, 'Avg_years_teaching')]"
      ]
     },
     "execution_count": 82,
     "metadata": {},
     "output_type": "execute_result"
    }
   ],
   "source": [
    "# Sort the features by their importance.\n",
    "sorted(zip(rf_model.feature_importances_, X.columns), reverse=True)"
   ]
  },
  {
   "cell_type": "code",
   "execution_count": null,
   "id": "8a2d8949",
   "metadata": {},
   "outputs": [],
   "source": [
    "# Try imbalanced algorithm?"
   ]
  }
 ],
 "metadata": {
  "kernelspec": {
   "display_name": "mlenv",
   "language": "python",
   "name": "mlenv"
  },
  "language_info": {
   "codemirror_mode": {
    "name": "ipython",
    "version": 3
   },
   "file_extension": ".py",
   "mimetype": "text/x-python",
   "name": "python",
   "nbconvert_exporter": "python",
   "pygments_lexer": "ipython3",
   "version": "3.8.8"
  }
 },
 "nbformat": 4,
 "nbformat_minor": 5
}
